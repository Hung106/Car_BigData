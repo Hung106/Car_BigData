{
 "cells": [
  {
   "cell_type": "code",
   "execution_count": 1,
   "metadata": {},
   "outputs": [
    {
     "name": "stdout",
     "output_type": "stream",
     "text": [
      "Requirement already satisfied: scikit-learn in c:\\users\\lenovo\\appdata\\local\\programs\\python\\python39\\lib\\site-packages (1.6.1)\n",
      "Requirement already satisfied: numpy>=1.19.5 in c:\\users\\lenovo\\appdata\\local\\programs\\python\\python39\\lib\\site-packages (from scikit-learn) (1.26.4)\n",
      "Requirement already satisfied: scipy>=1.6.0 in c:\\users\\lenovo\\appdata\\local\\programs\\python\\python39\\lib\\site-packages (from scikit-learn) (1.13.1)\n",
      "Requirement already satisfied: joblib>=1.2.0 in c:\\users\\lenovo\\appdata\\local\\programs\\python\\python39\\lib\\site-packages (from scikit-learn) (1.4.2)\n",
      "Requirement already satisfied: threadpoolctl>=3.1.0 in c:\\users\\lenovo\\appdata\\local\\programs\\python\\python39\\lib\\site-packages (from scikit-learn) (3.6.0)\n"
     ]
    }
   ],
   "source": [
    "!pip install scikit-learn"
   ]
  },
  {
   "cell_type": "code",
   "execution_count": 2,
   "metadata": {},
   "outputs": [
    {
     "name": "stdout",
     "output_type": "stream",
     "text": [
      "Requirement already satisfied: catboost in c:\\users\\lenovo\\appdata\\local\\programs\\python\\python39\\lib\\site-packages (1.2.7)\n",
      "Requirement already satisfied: graphviz in c:\\users\\lenovo\\appdata\\local\\programs\\python\\python39\\lib\\site-packages (from catboost) (0.20.3)\n",
      "Requirement already satisfied: matplotlib in c:\\users\\lenovo\\appdata\\local\\programs\\python\\python39\\lib\\site-packages (from catboost) (3.9.4)\n",
      "Requirement already satisfied: numpy<2.0,>=1.16.0 in c:\\users\\lenovo\\appdata\\local\\programs\\python\\python39\\lib\\site-packages (from catboost) (1.26.4)\n",
      "Requirement already satisfied: pandas>=0.24 in c:\\users\\lenovo\\appdata\\local\\programs\\python\\python39\\lib\\site-packages (from catboost) (2.2.3)\n",
      "Requirement already satisfied: scipy in c:\\users\\lenovo\\appdata\\local\\programs\\python\\python39\\lib\\site-packages (from catboost) (1.13.1)\n",
      "Requirement already satisfied: plotly in c:\\users\\lenovo\\appdata\\local\\programs\\python\\python39\\lib\\site-packages (from catboost) (6.0.1)\n",
      "Requirement already satisfied: six in c:\\users\\lenovo\\appdata\\local\\programs\\python\\python39\\lib\\site-packages (from catboost) (1.17.0)\n",
      "Requirement already satisfied: python-dateutil>=2.8.2 in c:\\users\\lenovo\\appdata\\local\\programs\\python\\python39\\lib\\site-packages (from pandas>=0.24->catboost) (2.9.0.post0)\n",
      "Requirement already satisfied: pytz>=2020.1 in c:\\users\\lenovo\\appdata\\local\\programs\\python\\python39\\lib\\site-packages (from pandas>=0.24->catboost) (2025.1)\n",
      "Requirement already satisfied: tzdata>=2022.7 in c:\\users\\lenovo\\appdata\\local\\programs\\python\\python39\\lib\\site-packages (from pandas>=0.24->catboost) (2025.1)\n",
      "Requirement already satisfied: contourpy>=1.0.1 in c:\\users\\lenovo\\appdata\\local\\programs\\python\\python39\\lib\\site-packages (from matplotlib->catboost) (1.3.0)\n",
      "Requirement already satisfied: cycler>=0.10 in c:\\users\\lenovo\\appdata\\local\\programs\\python\\python39\\lib\\site-packages (from matplotlib->catboost) (0.12.1)\n",
      "Requirement already satisfied: fonttools>=4.22.0 in c:\\users\\lenovo\\appdata\\local\\programs\\python\\python39\\lib\\site-packages (from matplotlib->catboost) (4.57.0)\n",
      "Requirement already satisfied: kiwisolver>=1.3.1 in c:\\users\\lenovo\\appdata\\local\\programs\\python\\python39\\lib\\site-packages (from matplotlib->catboost) (1.4.7)\n",
      "Requirement already satisfied: packaging>=20.0 in c:\\users\\lenovo\\appdata\\roaming\\python\\python39\\site-packages (from matplotlib->catboost) (24.2)\n",
      "Requirement already satisfied: pillow>=8 in c:\\users\\lenovo\\appdata\\local\\programs\\python\\python39\\lib\\site-packages (from matplotlib->catboost) (11.1.0)\n",
      "Requirement already satisfied: pyparsing>=2.3.1 in c:\\users\\lenovo\\appdata\\local\\programs\\python\\python39\\lib\\site-packages (from matplotlib->catboost) (3.2.3)\n",
      "Requirement already satisfied: importlib-resources>=3.2.0 in c:\\users\\lenovo\\appdata\\local\\programs\\python\\python39\\lib\\site-packages (from matplotlib->catboost) (6.5.2)\n",
      "Requirement already satisfied: narwhals>=1.15.1 in c:\\users\\lenovo\\appdata\\local\\programs\\python\\python39\\lib\\site-packages (from plotly->catboost) (1.33.0)\n",
      "Requirement already satisfied: zipp>=3.1.0 in c:\\users\\lenovo\\appdata\\roaming\\python\\python39\\site-packages (from importlib-resources>=3.2.0->matplotlib->catboost) (3.21.0)\n",
      "Note: you may need to restart the kernel to use updated packages.\n"
     ]
    }
   ],
   "source": [
    "pip install catboost"
   ]
  },
  {
   "cell_type": "code",
   "execution_count": null,
   "metadata": {},
   "outputs": [
    {
     "name": "stdout",
     "output_type": "stream",
     "text": [
      "Number of rows after filtering: 145645\n"
     ]
    },
    {
     "name": "stderr",
     "output_type": "stream",
     "text": [
      "C:\\Users\\LENOVO\\AppData\\Local\\Temp\\ipykernel_22548\\57461656.py:18: FutureWarning: Downcasting behavior in `replace` is deprecated and will be removed in a future version. To retain the old behavior, explicitly call `result.infer_objects(copy=False)`. To opt-in to the future behavior, set `pd.set_option('future.no_silent_downcasting', True)`\n",
      "  df['new&used'] = df['new&used'].replace({'New': 1, 'Used': 0})\n"
     ]
    },
    {
     "name": "stdout",
     "output_type": "stream",
     "text": [
      "0:\tlearn: 20367.9329019\ttotal: 239ms\tremaining: 1m 11s\n",
      "50:\tlearn: 12371.9641920\ttotal: 6.68s\tremaining: 32.6s\n",
      "100:\tlearn: 11830.6895853\ttotal: 12.6s\tremaining: 24.7s\n",
      "150:\tlearn: 11469.8524335\ttotal: 17.9s\tremaining: 17.7s\n",
      "200:\tlearn: 11349.6046518\ttotal: 22.6s\tremaining: 11.2s\n",
      "250:\tlearn: 11198.3721816\ttotal: 27.9s\tremaining: 5.44s\n",
      "299:\tlearn: 11047.9953883\ttotal: 35.4s\tremaining: 0us\n",
      "MSE: 128333966.50145827\n",
      "MAE: 5387.051688800048\n",
      "R²: 0.7461402505828179\n",
      "MAPE: 15.01%\n",
      "RMSE: 11328.45825792099\n"
     ]
    },
    {
     "data": {
      "image/png": "[encoded data removed]",
      "text/plain": [
       "<Figure size 1000x600 with 1 Axes>"
      ]
     },
     "metadata": {},
     "output_type": "display_data"
    }
   ],
   "source": [
    "import pandas as pd\n",
    "import numpy as np\n",
    "import matplotlib.pyplot as plt\n",
    "from sklearn.model_selection import train_test_split\n",
    "from sklearn.metrics import mean_squared_error, mean_absolute_error, r2_score, mean_absolute_percentage_error\n",
    "from catboost import CatBoostRegressor, Pool\n",
    "\n",
    "df = pd.read_csv(\"./data.csv\")\n",
    "\n",
    "df = df[df['new&used'].isin(['New', 'Used'])]\n",
    "df = df[df['Fuel type'].isin(['Gasoline'])]\n",
    "\n",
    "# Kiểm tra số lượng dòng sau khi lọc\n",
    "print(f\"Number of rows after filtering: {len(df)}\")\n",
    "if len(df) == 0:\n",
    "    print(\"No data left after filtering, check the filtering conditions!\")\n",
    "else:\n",
    "    df['new&used'] = df['new&used'].replace({'New': 1, 'Used': 0})\n",
    "    cat_columns = [ 'brand', 'Exterior color', 'Model', 'new&used']\n",
    "\n",
    "    # Chuyển đổi biến phân loại sang kiểu category\n",
    "    for col in cat_columns:\n",
    "        df[col] = df[col].astype(\"category\")\n",
    "\n",
    "    # Tiến hành phân chia dữ liệu\n",
    "    train_data, test_data = train_test_split(df, test_size=0.2, random_state=42)\n",
    "\n",
    "    x = ['brand', 'Exterior color', 'Model', 'Year', 'Mileage', 'new&used']\n",
    "    y = 'money'\n",
    "    x_train = train_data[x]\n",
    "    y_train = train_data[y]\n",
    "    x_test = test_data[x]\n",
    "    y_test = test_data[y]\n",
    "    \n",
    "    # Tạo Pool dữ liệu train và test\n",
    "    train_pool = Pool(data=x_train, label=y_train, cat_features=cat_columns)\n",
    "    test_pool = Pool(data=x_test, cat_features=cat_columns)\n",
    "\n",
    "    # Định nghĩa mô hình và tham số\n",
    "    model = CatBoostRegressor(\n",
    "        loss_function='RMSE',\n",
    "        iterations=300,\n",
    "        depth=4,\n",
    "        learning_rate=0.2,\n",
    "        l2_leaf_reg=1,\n",
    "        boosting_type='Ordered',\n",
    "        eval_metric='RMSE',\n",
    "        verbose=50,\n",
    "        early_stopping_rounds=50\n",
    "    )\n",
    "\n",
    "    # Huấn luyện mô hình\n",
    "    model.fit(train_pool)\n",
    "\n",
    "    # Dự đoán trên tập test\n",
    "    preds = model.predict(test_pool)\n",
    "\n",
    "    # Tính toán các chỉ số đánh giá\n",
    "    mse_value = mean_squared_error(y_test, preds)\n",
    "    rmse_value = np.sqrt(mse_value)\n",
    "    mae_value = mean_absolute_error(y_test, preds)\n",
    "    r2_value = r2_score(y_test, preds)\n",
    "    mape = mean_absolute_percentage_error(y_test, preds) * 100\n",
    "\n",
    "    # In kết quả\n",
    "    print(f\"MSE: {mse_value}\")\n",
    "    print(f\"MAE: {mae_value}\")\n",
    "    print(f\"R²: {r2_value}\")\n",
    "    print(f\"MAPE: {mape:.2f}%\")\n",
    "    print(f\"RMSE: {rmse_value}\")\n",
    "    # Lấy giá trị tầm quan trọng của các đặc trưng\n",
    "    feature_importances = model.get_feature_importance(train_pool)\n",
    "    feature_names = x_train.columns\n",
    "\n",
    "    # Vẽ đồ thị\n",
    "    plt.figure(figsize=(10, 6))\n",
    "    plt.barh(feature_names, feature_importances, color='skyblue')\n",
    "    plt.xlabel('Feature Importance')\n",
    "    plt.ylabel('Features')\n",
    "    plt.title('Mức độ ảnh hưởng của các đặc trưng đến dự đoán giá xe')\n",
    "    plt.gca().invert_yaxis()  # Đảo ngược trục y để đặc trưng quan trọng nhất ở trên cùng\n",
    "    plt.show()  \n",
    "   "
   ]
  },
  {
   "cell_type": "code",
   "execution_count": null,
   "metadata": {
    "vscode": {
     "languageId": "ini"
    }
   },
   "outputs": [],
   "source": []
  },
  {
   "cell_type": "code",
   "execution_count": 17,
   "metadata": {},
   "outputs": [
    {
     "name": "stdout",
     "output_type": "stream",
     "text": [
      "Dự đoán giá cho mẫu 1: 30011.955099910584976897 USD\n",
      "Dự đoán giá cho mẫu 2: 21891.840365156080224551 USD\n",
      "Dự đoán giá cho mẫu 3: 27003.270363779181934660 USD\n"
     ]
    }
   ],
   "source": [
    " # Dự đoán cho một mẫu mới\n",
    "    # i_name = input(\"Nhập tên xe: \")\n",
    "# i_brand = input(\"Nhập thương hiệu xe: \")\n",
    "# i_color = input(\"Nhập màu sắc ngoại thất: \")\n",
    "# i_model = input(\"Nhập kiểu xe: \")\n",
    "# i_year = int(input(\"Nhập năm sản xuất: \"))\n",
    "# i_mileage = int(input(\"Nhập số km đã đi: \"))\n",
    "# i_new_used = input(\"Nhập tình trạng xe (New/Used): \")\n",
    "\n",
    "input_test = pd.DataFrame({\n",
    "    'brand': ['Toyota','Volkswagen','Chevrolet'],\n",
    "    'Exterior color': ['White', 'Platinum Gray Metallic', 'Black'],\n",
    "    'Model': ['Corolla S','Tiguan 2.0T SE','Equinox 2Lt'],\n",
    "    'Year': [2028,2025,2027],\n",
    "    'Mileage': [2000,45070,0],\n",
    "    'new&used': ['Used', 'Used', 'New']\n",
    "})\n",
    "\n",
    "\n",
    "predict_test = model.predict(input_test)\n",
    "for i, pred in enumerate(predict_test):\n",
    "    print(f\"Dự đoán giá cho mẫu {i+1}: {pred:.18f} USD\")"
   ]
  }
 ],
 "metadata": {
  "kernelspec": {
   "display_name": "Python 3",
   "language": "python",
   "name": "python3"
  },
  "language_info": {
   "codemirror_mode": {
    "name": "ipython",
    "version": 3
   },
   "file_extension": ".py",
   "mimetype": "text/x-python",
   "name": "python",
   "nbconvert_exporter": "python",
   "pygments_lexer": "ipython3",
   "version": "3.9.13"
  }
 },
 "nbformat": 4,
 "nbformat_minor": 2
}
